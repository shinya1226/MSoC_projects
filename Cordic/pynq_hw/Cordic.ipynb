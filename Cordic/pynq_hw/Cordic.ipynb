{
 "cells": [
  {
   "cell_type": "code",
   "execution_count": 101,
   "metadata": {},
   "outputs": [
    {
     "name": "stdout",
     "output_type": "stream",
     "text": [
      "Entry: /usr/lib/python3/dist-packages/ipykernel_launcher.py\n",
      "System argument(s): 3\n",
      "Start of \"/usr/lib/python3/dist-packages/ipykernel_launcher.py\"\n",
      "Rms_sin_error = 0.00046632649383929696\n",
      "Rms_cos_error = 0.0005111448200322633\n",
      "============================\n",
      "Exit process\n"
     ]
    }
   ],
   "source": [
    "\n",
    "# coding: utf-8\n",
    "\n",
    "# In[ ]:\n",
    "\n",
    "\n",
    "from __future__ import print_function\n",
    "\n",
    "import sys\n",
    "sys.path.append('/home/xilinx')\n",
    "import numpy as np\n",
    "from math import sqrt\n",
    "from pynq import Overlay\n",
    "\n",
    "if __name__ == \"__main__\":\n",
    "    print(\"Entry:\", sys.argv[0])\n",
    "    print(\"System argument(s):\", len(sys.argv))\n",
    "\n",
    "    print(\"Start of \\\"\" + sys.argv[0] + \"\\\"\")\n",
    "\n",
    "    ol = Overlay(\"/home/xilinx/r09525031/cordic/design_1_wrapper.bit\")\n",
    "    cordic = ol.cordic_0\n",
    "\n",
    "    \n",
    "    ## system is 14bits signed ap_fixed, 2bits int(1bit for sign) and 12s bit fixed \n",
    "    test_num = 90; ## due to input pattern and 2bit int \n",
    "    shifter = 4096.0; ##due to 12bit fixed\n",
    "    gold_sin = 0.0;\n",
    "    gold_cos = 0.0;\n",
    "    sum_sin_error = 0.0;\n",
    "    sum_cos_error = 0.0;\n",
    "    \n",
    "    \n",
    "    for i in range(test_num):\n",
    "        radian = i*PI/180.0;\n",
    "        gold_sin = np.sin(radian);\n",
    "        gold_cos = np.cos(radian);\n",
    "        pat = int(radian*shifter);\n",
    "        \n",
    "        cordic.write(0x10, pat)\n",
    "        cordic.write(0x00,0x01);\n",
    "        out_sin = cordic.read(0x18)\n",
    "        out_cos = cordic.read(0x20)\n",
    "       \n",
    "    ##sign check\n",
    "        if(0x0 |(out_sin & 0x2000)>1):\n",
    "            out_sin = -(out_sin & 0x1FFF);\n",
    "        else:\n",
    "            out_sin = out_sin & 0x1FFF;\n",
    "        if(0x0 |(out_cos & 0x2000)>1):\n",
    "            out_cos = -(out_cos & 0x1FFF);\n",
    "        else:\n",
    "            out_cos = out_cos & 0x1FFF;\n",
    "        if(i==0): ##known issue, first data would read wrong\n",
    "            continue;\n",
    "        sum_sin_error += (gold_sin - out_sin/shifter) * (gold_sin - out_sin/shifter);\n",
    "        sum_cos_error += (gold_cos - out_cos/shifter) * (gold_cos - out_cos/shifter);\n",
    "        \n",
    "    Rms_sin_error = sqrt(sum_sin_error/test_num);\n",
    "    Rms_cos_error = sqrt(sum_cos_error/test_num);\n",
    "    print(\"Rms_sin_error = \" + str(Rms_sin_error));\n",
    "    print(\"Rms_cos_error = \" + str(Rms_cos_error));\n",
    "    \n",
    "    print(\"============================\")\n",
    "    print(\"Exit process\")\n",
    "\n"
   ]
  },
  {
   "cell_type": "code",
   "execution_count": null,
   "metadata": {},
   "outputs": [],
   "source": []
  }
 ],
 "metadata": {
  "kernelspec": {
   "display_name": "Python 3",
   "language": "python",
   "name": "python3"
  },
  "language_info": {
   "codemirror_mode": {
    "name": "ipython",
    "version": 3
   },
   "file_extension": ".py",
   "mimetype": "text/x-python",
   "name": "python",
   "nbconvert_exporter": "python",
   "pygments_lexer": "ipython3",
   "version": "3.6.5"
  }
 },
 "nbformat": 4,
 "nbformat_minor": 2
}
