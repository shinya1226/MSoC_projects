{
 "cells": [
  {
   "cell_type": "code",
   "execution_count": 16,
   "metadata": {},
   "outputs": [
    {
     "name": "stdout",
     "output_type": "stream",
     "text": [
      "Entry: /usr/lib/python3/dist-packages/ipykernel_launcher.py\n",
      "System argument(s): 3\n",
      "Start of \"/usr/lib/python3/dist-packages/ipykernel_launcher.py\"\n",
      "Kernel execution time: 0.06415462493896484 s\n",
      "Data check\n",
      "RMSE(R):2.759875892851594e-07\n",
      "RMSE(I):2.7133535924166183e-07\n",
      "============================\n",
      "Exit process\n"
     ]
    }
   ],
   "source": [
    "\n",
    "# coding: utf-8\n",
    "\n",
    "# In[ ]:\n",
    "\n",
    "\n",
    "from __future__ import print_function\n",
    "\n",
    "import sys\n",
    "import numpy as np\n",
    "from math import sqrt \n",
    "from time import time\n",
    "import matplotlib.pyplot as plt \n",
    "\n",
    "sys.path.append('/home/xilinx')\n",
    "from pynq import Overlay\n",
    "from pynq import allocate\n",
    "\n",
    "if __name__ == \"__main__\":\n",
    "    print(\"Entry:\", sys.argv[0])\n",
    "    print(\"System argument(s):\", len(sys.argv))\n",
    "\n",
    "    print(\"Start of \\\"\" + sys.argv[0] + \"\\\"\")\n",
    "\n",
    "    ol = Overlay(\"/home/xilinx/r09525031/dft/design_1_wrapper.bit\")\n",
    "    dft = ol.dft_0;\n",
    "    size = 256;\n",
    "    golden = open(\"/home/xilinx/r09525031/dft/out.gold.dat\", \"r+\");\n",
    "\n",
    "    \n",
    "    in_r = allocate(shape=(size,), dtype=np.float32)\n",
    "    in_i = allocate(shape=(size,), dtype=np.float32)\n",
    "    out_r = allocate(shape=(size,), dtype=np.float32)\n",
    "    out_i = allocate(shape=(size,), dtype=np.float32)\n",
    "    for i in range(size):\n",
    "        in_r[i] = i;\n",
    "    \n",
    "\n",
    "    timeKernelStart = time()\n",
    "\n",
    "    dft.write(0x10, in_r.device_address)\n",
    "    dft.write(0x18, in_i.device_address)\n",
    "    dft.write(0x20, out_r.device_address)\n",
    "    dft.write(0x28, out_i.device_address)\n",
    "    dft.write(0x00, 0x01)\n",
    "    while (dft.read(0x00) & 0x4) == 0x0:\n",
    "        continue\n",
    "    timeKernelEnd = time()\n",
    "    print(\"Kernel execution time: \" + str(timeKernelEnd - timeKernelStart) + \" s\")\n",
    "      \n",
    "    print(\"Data check\")\n",
    "    sum_r = 0.0;\n",
    "    sum_i = 0.0;\n",
    "    \n",
    "    for i in range(size):\n",
    "        data = golden.readline();\n",
    "        x = data.split();\n",
    "        gold_r = float(x[1]);\n",
    "        gold_i = float(x[2]);\n",
    "        sum_r = sum_r + (gold_r - out_r[i]) * (gold_r - out_r[i]);\n",
    "        sum_i = sum_i + (gold_i - out_i[i]) * (gold_i - out_i[i]);\n",
    "        \n",
    "                  \n",
    "    error_r = sqrt(sum_r/size);\n",
    "    error_i = sqrt(sum_i/size);\n",
    "    print(\"RMSE(R):\" + str(error_r))\n",
    "    print(\"RMSE(I):\" + str(error_i))\n",
    "    golden.close();\n",
    "\n",
    "\n",
    "    print(\"============================\")\n",
    "    print(\"Exit process\")\n",
    "\n"
   ]
  },
  {
   "cell_type": "code",
   "execution_count": null,
   "metadata": {},
   "outputs": [],
   "source": []
  }
 ],
 "metadata": {
  "kernelspec": {
   "display_name": "Python 3",
   "language": "python",
   "name": "python3"
  },
  "language_info": {
   "codemirror_mode": {
    "name": "ipython",
    "version": 3
   },
   "file_extension": ".py",
   "mimetype": "text/x-python",
   "name": "python",
   "nbconvert_exporter": "python",
   "pygments_lexer": "ipython3",
   "version": "3.6.5"
  }
 },
 "nbformat": 4,
 "nbformat_minor": 2
}
